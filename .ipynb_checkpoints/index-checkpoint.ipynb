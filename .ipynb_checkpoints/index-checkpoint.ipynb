{
 "cells": [
  {
   "cell_type": "code",
   "execution_count": 1,
   "id": "a0e350fc",
   "metadata": {},
   "outputs": [
    {
     "data": {
      "text/html": [
       "Displaying chart at <a href='http://localhost:63396/' target='_blank'>http://localhost:63396/</a>"
      ],
      "text/plain": [
       "Displaying chart at http://localhost:63396/"
      ]
     },
     "execution_count": 1,
     "metadata": {},
     "output_type": "execute_result"
    }
   ],
   "source": [
    "import pandas as pd\n",
    "import numpy as np\n",
    "import altair as alt\n",
    "import altair_viewer\n",
    "alt.renderers.enable('altair_viewer')\n",
    "\n",
    "\n",
    "df_medal = pd.read_csv('archive/olympic_medals.csv')\n",
    "df_host = pd.read_csv('archive/olympic_hosts.csv')\n",
    "df_athlete = pd.read_csv('archive/olympic_athletes.csv')\n",
    "df_result = pd.read_csv('archive/olympic_results.csv')\n",
    "df = df_medal.merge(df_host, left_on='slug_game', right_on='game_slug')\n",
    "\n",
    "df = df[(df.game_season == 'Summer') & (df.country_3_letter_code == 'GBR')]\n",
    "df_nb = df.groupby(['game_year'])['discipline_title'].count().reset_index(name=\"count\")\n",
    "\n",
    "### 1. une courbe qui représente le nombre de médailles gagnées au cours du temps\n",
    "source = df_nb.from_records({\n",
    "    'Année': df_nb['game_year'],\n",
    "    'Médailles': df_nb['count']\n",
    "})\n",
    "\n",
    "chart = alt.Chart(source).mark_line().encode(x='Année',y='Médailles')\n",
    "\n",
    "altair_viewer.display(chart)\n",
    "\n"
   ]
  },
  {
   "cell_type": "code",
   "execution_count": 55,
   "id": "72c2528d",
   "metadata": {},
   "outputs": [
    {
     "data": {
      "text/html": [
       "Displaying chart at <a href='http://localhost:63396/' target='_blank'>http://localhost:63396/</a>"
      ],
      "text/plain": [
       "Displaying chart at http://localhost:63396/"
      ]
     },
     "execution_count": 55,
     "metadata": {},
     "output_type": "execute_result"
    }
   ],
   "source": [
    "### 4. un diagramme en bâtons qui représente le nombre de médailles gagnées pour chacun des 10 sportifs ayant gagné le plus de médailles\n",
    "df_medal_by_athlete = df.groupby(['athlete_full_name'])['medal_type'].count().nlargest(10).reset_index(name=\"count\")\n",
    "#df_medal_by_athlete.sort_values(by='count')\n",
    "\n",
    "source = df_medal_by_athlete.from_records({\n",
    "    'Athlète': df_medal_by_athlete['athlete_full_name'],\n",
    "    'Médailles': df_medal_by_athlete['count']\n",
    "})\n",
    "\n",
    "chart4 = alt.Chart(source).mark_bar().encode(x='Athlète',y='Médailles')\n",
    "altair_viewer.display(chart4)"
   ]
  },
  {
   "cell_type": "code",
   "execution_count": 54,
   "id": "9098b13a",
   "metadata": {},
   "outputs": [
    {
     "data": {
      "text/html": [
       "Displaying chart at <a href='http://localhost:63396/' target='_blank'>http://localhost:63396/</a>"
      ],
      "text/plain": [
       "Displaying chart at http://localhost:63396/"
      ]
     },
     "execution_count": 54,
     "metadata": {},
     "output_type": "execute_result"
    }
   ],
   "source": [
    "### 5. pour l'athlète ayant remporté le plus de médailles, une courbe qui représente l'évolution de sa place sur chacune des marches du podium en fonction de son âge\n",
    "df_full_athlete = df.merge(df_athlete, left_on='athlete_full_name', right_on='athlete_full_name')\n",
    "df_full_athlete = df_full_athlete[(df_full_athlete.athlete_full_name == 'Ben AINSLIE')]\n",
    "df2 = df_full_athlete.assign(Age=df_full_athlete['game_year'] - df_full_athlete['athlete_year_birth'])\n",
    "\n",
    "source = df2.from_records({\n",
    "    'Age': df2['Age'],\n",
    "    'Médailles': df2['medal_type']\n",
    "})\n",
    "\n",
    "chart5 = alt.Chart(source).mark_line().encode(x='Age',y='Médailles')\n",
    "altair_viewer.display(chart5)"
   ]
  },
  {
   "cell_type": "code",
   "execution_count": 53,
   "id": "22989e6e",
   "metadata": {},
   "outputs": [
    {
     "name": "stderr",
     "output_type": "stream",
     "text": [
      "C:\\Users\\Administrateur\\AppData\\Local\\Temp\\ipykernel_12500\\4285453676.py:7: FutureWarning: Indexing with multiple keys (implicitly converted to a tuple of keys) will be deprecated, use a list instead.\n",
      "  nuage = df_gbr.groupby(['slug_game'])['country_3_letter_code', 'medal_type'].count().reset_index()\n"
     ]
    },
    {
     "data": {
      "text/html": [
       "Displaying chart at <a href='http://localhost:63396/' target='_blank'>http://localhost:63396/</a>"
      ],
      "text/plain": [
       "Displaying chart at http://localhost:63396/"
      ]
     },
     "execution_count": 53,
     "metadata": {},
     "output_type": "execute_result"
    }
   ],
   "source": [
    "### 6. un nuage de point qui représente le nombre de médailles gagnées en fonction du nombre de participants engagés\n",
    "df_gbr = df_result.merge(df_host, left_on='slug_game', right_on='game_slug')\n",
    "df_gbr = df_gbr[(df_gbr.game_season == 'Summer') & (df_gbr.country_3_letter_code == 'GBR')]\n",
    "#print(df_gbr[(df_gbr.slug_game == 'amsterdam-1928') & (pd.isna(df_gbr['medal_type']))].info())\n",
    "# Le résultat du print au dessus me sort bien 114 entrées des participants sans médaille\n",
    "# 134 participants, 20 médaillés, 114 non médaillés pour les JO amsterdam-1928\n",
    "nuage = df_gbr.groupby(['slug_game'])['country_3_letter_code', 'medal_type'].count().reset_index()\n",
    "\n",
    "source = nuage.from_records({\n",
    "    'Participants': nuage['country_3_letter_code'],\n",
    "    'Médailles': nuage['medal_type'],\n",
    "    'JO': nuage['slug_game']\n",
    "})\n",
    "\n",
    "nuage = alt.Chart(source).mark_point().encode(\n",
    "    x='Participants',\n",
    "    y='Médailles'\n",
    ")\n",
    "altair_viewer.display(nuage)"
   ]
  },
  {
   "cell_type": "code",
   "execution_count": 5,
   "id": "53b17075",
   "metadata": {},
   "outputs": [
    {
     "name": "stderr",
     "output_type": "stream",
     "text": [
      "C:\\Users\\Administrateur\\AppData\\Local\\Temp\\ipykernel_12500\\2900578559.py:8: FutureWarning: Indexing with multiple keys (implicitly converted to a tuple of keys) will be deprecated, use a list instead.\n",
      "  nuage = df_gbr.groupby(['slug_game'])['country_3_letter_code', 'medal_type'].count().reset_index()\n"
     ]
    },
    {
     "data": {
      "text/html": [
       "Displaying chart at <a href='http://localhost:63396/' target='_blank'>http://localhost:63396/</a>"
      ],
      "text/plain": [
       "Displaying chart at http://localhost:63396/"
      ]
     },
     "execution_count": 5,
     "metadata": {},
     "output_type": "execute_result"
    }
   ],
   "source": [
    "### 8. un diagramme en bâtons qui représente le nombre de places sur le podium pour les athlètes du pays en \n",
    "### divisant les éditions en deux groupes :  celles qui ont lieu dans le pays étudié et les autres\n",
    "df_gbr = df_result.merge(df_host, left_on='slug_game', right_on='game_slug')\n",
    "df_gbr = df_gbr[(df_gbr.game_season == 'Summer') & (df_gbr.country_3_letter_code == 'GBR')]\n",
    "#print(df_gbr[(df_gbr.slug_game == 'amsterdam-1928') & (pd.isna(df_gbr['medal_type']))].info())\n",
    "# Le résultat du print au dessus me sort bien 114 entrées des participants sans médaille\n",
    "# 134 participants, 20 médaillés, 114 non médaillés pour les JO amsterdam-1928\n",
    "nuage = df_gbr.groupby(['slug_game'])['country_3_letter_code', 'medal_type'].count().reset_index()\n",
    "\n",
    "source = nuage.from_records({\n",
    "    'Participants': nuage['country_3_letter_code'],\n",
    "    'Médailles': nuage['medal_type'],\n",
    "    'JO': nuage['slug_game']\n",
    "})\n",
    "\n",
    "chart5 = alt.Chart(source).mark_circle(size=60).encode(x='Participants',y='Médailles', color=alt.value('red'))\n",
    "altair_viewer.display(chart5)\n",
    "\n",
    "bar = alt.Chart(source).mark_bar().encode(\n",
    "    x='JO:O',\n",
    "    y='Participants:Q'\n",
    ")\n",
    "\n",
    "bar2 = alt.Chart(source).mark_bar(color='green').encode(\n",
    "    x='JO:O',\n",
    "    y='Médailles:Q'\n",
    ")\n",
    "\n",
    "\n",
    "line = alt.Chart(source).mark_line(color='orange').transform_window(\n",
    "    # The field to average\n",
    "    rolling_mean='mean(Médailles)',\n",
    "    # The number of values before and after the current value to include.\n",
    "    frame=[-9, 0]\n",
    ").encode(\n",
    "    alt.X('JO:O', title = 'qsdqsdqsd', axis = alt.Axis(labelAngle = -45, labelOverlap = False)),\n",
    "    y='rolling_mean:Q'\n",
    ")\n",
    "\n",
    "(bar + bar2 +  line).properties(width=600)\n",
    "#chart5 = alt.Chart(source).mark_circle(size=60).encode(x='Participants:Q',y='Médailles')\n"
   ]
  },
  {
   "cell_type": "raw",
   "id": "e948169b",
   "metadata": {},
   "source": []
  },
  {
   "cell_type": "code",
   "execution_count": 59,
   "id": "a3ca76a6",
   "metadata": {},
   "outputs": [
    {
     "name": "stdout",
     "output_type": "stream",
     "text": [
      "  Sexe   Id  Name  Medaille\n",
      "0    F  201   151       201\n",
      "1    M  710   444       710\n"
     ]
    },
    {
     "data": {
      "text/html": [
       "Displaying chart at <a href='http://localhost:63396/' target='_blank'>http://localhost:63396/</a>"
      ],
      "text/plain": [
       "Displaying chart at http://localhost:63396/"
      ]
     },
     "execution_count": 59,
     "metadata": {},
     "output_type": "execute_result"
    }
   ],
   "source": [
    "### 9. un histogramme qui représente la distribution du nombre de fois où un athlète est monté sur le podium des JO, par sexe\n",
    "\n",
    "dict_athlete = {\"Id\":[], \"Name\":[], \"Medaille\":[], \"Sexe\":[]};\n",
    "for row in df_gbr.iterrows():    \n",
    "    if 'women' in row[1]['event_title'].lower() and pd.isnull(row[1]['medal_type']) == 0:\n",
    "        dict_athlete[\"Id\"].append(i)\n",
    "        dict_athlete[\"Name\"].append(row[1]['athlete_full_name'])\n",
    "        dict_athlete[\"Medaille\"].append(row[1]['medal_type'])\n",
    "        dict_athlete[\"Sexe\"].append(\"F\")        \n",
    "    elif pd.isnull(row[1]['medal_type']) == 0: \n",
    "        dict_athlete[\"Id\"].append(i)\n",
    "        dict_athlete[\"Name\"].append(row[1]['athlete_full_name'])\n",
    "        dict_athlete[\"Medaille\"].append(row[1]['medal_type'])\n",
    "        dict_athlete[\"Sexe\"].append(\"M\")\n",
    "df_dict_athlete = pd.DataFrame.from_dict(dict_athlete)\n",
    "df_woman = df_dict_athlete[df_dict_athlete['Sexe'] == 'F'].groupby(['Sexe']).count().reset_index()\n",
    "df_man = df_dict_athlete[df_dict_athlete['Sexe'] == 'M'].groupby(['Sexe']).count().reset_index()\n",
    "df_sexe = df_dict_athlete.groupby(['Sexe']).count().reset_index()\n",
    "print(df_sexe)\n",
    "\n",
    "source = df_sexe.from_records({\n",
    "    'Genre': df_sexe['Sexe'],\n",
    "    'Médailles': df_sexe['Medaille']\n",
    "})\n",
    "\n",
    "chart6 = alt.Chart(source).mark_bar().encode(x='Médailles',y='Genre')\n",
    "altair_viewer.display(chart6)"
   ]
  },
  {
   "cell_type": "code",
   "execution_count": null,
   "id": "86b98fcf",
   "metadata": {},
   "outputs": [],
   "source": []
  },
  {
   "cell_type": "code",
   "execution_count": null,
   "id": "84817bbf",
   "metadata": {},
   "outputs": [],
   "source": []
  }
 ],
 "metadata": {
  "kernelspec": {
   "display_name": "Python 3 (ipykernel)",
   "language": "python",
   "name": "python3"
  },
  "language_info": {
   "codemirror_mode": {
    "name": "ipython",
    "version": 3
   },
   "file_extension": ".py",
   "mimetype": "text/x-python",
   "name": "python",
   "nbconvert_exporter": "python",
   "pygments_lexer": "ipython3",
   "version": "3.9.12"
  }
 },
 "nbformat": 4,
 "nbformat_minor": 5
}
