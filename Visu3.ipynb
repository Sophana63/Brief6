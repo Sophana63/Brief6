{
 "cells": [
  {
   "cell_type": "markdown",
   "id": "e1bfc25e",
   "metadata": {},
   "source": [
    "<div style =\"padding: 15px 20px;\n",
    "    color: #c8102e;\n",
    "    background: #01216955;             \n",
    "    display: flex;\n",
    "    justify-content: space-between;\n",
    "    align-items: center;\">\n",
    "    <div>\n",
    "        <img src=\"flag_mini.png\">\n",
    "    </div>\n",
    "    <div>\n",
    "        <h2 style = \"padding : 0 10px\">3 -Afficher un histogramme qui représente la distribution de l'âge des participants pour toutes les éditions </h2>\n",
    "    </div>\n",
    "</div>\n"
   ]
  },
  {
   "cell_type": "code",
   "execution_count": 20,
   "id": "7175176e",
   "metadata": {},
   "outputs": [],
   "source": [
    "import pandas as pd\n",
    "import os \n",
    "import ast\n",
    "import altair as alt\n",
    "\n",
    "country = 'GBR'\n",
    "\n",
    "df_hosts = pd.read_csv(r\"{}/archive/olympic_hosts.csv\".format(os.getcwd()))\n",
    "df_results = pd.read_csv(r\"{}/archive/olympic_results.csv\".format(os.getcwd())) \n",
    "df_athletes = pd.read_csv(r\"{}/archive/olympic_athletes.csv\".format(os.getcwd())) "
   ]
  },
  {
   "cell_type": "markdown",
   "id": "1d196116",
   "metadata": {},
   "source": [
    "## **Récupération de tous les participants anglais aux Jo d'été** "
   ]
  },
  {
   "cell_type": "code",
   "execution_count": 21,
   "id": "bc45ac64",
   "metadata": {},
   "outputs": [
    {
     "name": "stdout",
     "output_type": "stream",
     "text": [
      "On récupère 5300 inscrits\n",
      "4402 athlètes aux épreuves individuelles, et 898 équipes inscrites aux compétitions par équipe.\n"
     ]
    }
   ],
   "source": [
    "#fusionner df_results & df_hosts pour filter les JO d'étés, puis filtrer\n",
    "df = df_results.merge(df_hosts, left_on='slug_game', right_on='game_slug')\n",
    "df.query(\"country_3_letter_code == @country and game_season == 'Summer'\", inplace=True)\n",
    "\n",
    "#df_team : récupération des athlètes qui participent en équipe\n",
    "df_team = df[(df.participant_type == 'GameTeam')]\n",
    "df_indiv = df[(df.participant_type == 'Athlete')]\n",
    "\n",
    "print('On récupère {} inscrits'.format(df.shape[0]))\n",
    "print('{} athlètes aux épreuves individuelles, et {} équipes inscrites aux compétitions par équipe.'.format(len(df_indiv), len(df_team)))\n"
   ]
  },
  {
   "cell_type": "markdown",
   "id": "b3308ddd",
   "metadata": {},
   "source": [
    "## **Création d'un dataset exploitable**"
   ]
  },
  {
   "cell_type": "code",
   "execution_count": 22,
   "id": "35ca72db",
   "metadata": {},
   "outputs": [
    {
     "name": "stdout",
     "output_type": "stream",
     "text": [
      "Après un nettoyage de donnée, nous obtenons une liste de 3124 présences d'athlètes toutes olympiades confondues, dont la date de naissance est connue; ce qui nous permettra de calculer leurs ages.\n"
     ]
    }
   ],
   "source": [
    "#suppression des lignes où les participants de l'épreuve par équipe sont inconnus \n",
    "df_team = df_team.drop(df_team[df_team['athletes'].isnull()].index)\n",
    "\n",
    "#extractions des participants par équipe qui étaient dans des listes et ajout aux autres partipants \n",
    "df = df_indiv.copy()\n",
    "liste_participant=[]\n",
    "\n",
    "for index,row in df_team.iterrows():\n",
    "    l = ast.literal_eval(row['athletes'])\n",
    "    for participant in l :\n",
    "        df_new_line =  pd.DataFrame([[row['slug_game'],row['participant_type'],row['game_year'],row['athletes'],participant[1]]],columns=['slug_game','participant_type', 'game_year','athletes','athlete_url'])\n",
    "        liste_participant.append(participant[0])\n",
    "        df = pd.concat([df, df_new_line]) \n",
    "\n",
    "#suppression des lignes où l'athlète n'a pas d'identifiant unique / athlete_url ( 3944 entrées)\n",
    "df.drop(df[df['athlete_url'].isnull()].index, inplace=True)\n",
    "\n",
    "#éliminations des doublons correspondant aux athlètes présents plusieurs fois la même année ( 3291 entrées )\n",
    "df.drop_duplicates(subset=['athlete_url','game_year'], keep='first', inplace=True)\n",
    "\n",
    "#Fusion de notre tableau filtré avec le tableau d'info des athlètes pour obtenir l'année de naissance\n",
    "df_final = df.merge(df_athletes, left_on='athlete_url', right_on='athlete_url')\n",
    "\n",
    "#suppression des lignes où la date de naissance est inconnue\n",
    "df_final.drop(df_final[df_final['athlete_year_birth'].isnull()].index, inplace=True)\n",
    "\n",
    "print(\"Après un nettoyage de donnée, nous obtenons une liste de {} présences d'athlètes toutes olympiades confondues, dont la date de naissance est connue; ce qui nous permettra de calculer leurs ages.\".format(len(df_final)))"
   ]
  },
  {
   "cell_type": "markdown",
   "id": "a317621e",
   "metadata": {},
   "source": [
    "## Calcul de l'âge des athlètes lors de leurs particpations au jeux olympiques"
   ]
  },
  {
   "cell_type": "code",
   "execution_count": 23,
   "id": "d0fb923b",
   "metadata": {},
   "outputs": [
    {
     "name": "stdout",
     "output_type": "stream",
     "text": [
      "              athlete_full_name_x   age\n",
      "3134               William MORRIS -82.0\n",
      "2564                   Alec SCOTT -61.0\n",
      "2917                William SCOTT -40.0\n",
      "3153               Jack A. WARNER -35.0\n",
      "1987              Robert SULLIVAN -18.0\n",
      "2474                William WHITE  -7.0\n",
      "3268              Sidney ROBINSON  -2.0\n",
      "3077                  William COX   4.0\n",
      "120                     Sky BROWN  12.0\n",
      "1496            James Guy PARRACK  12.0\n",
      "1481            Zara Letitia LONG  14.0\n",
      "121               Bombette MARTIN  14.0\n",
      "14                   Thomas DALEY  14.0\n",
      "2295        Charmain Isobel WELSH  15.0\n",
      "1147             Sarah HARDCASTLE  15.0\n",
      "1331           Susannah BROWNSDON  15.0\n",
      "2002  Beverly Anna Maria WILLIAMS  15.0\n",
      "1345                   Kathy READ  15.0\n",
      "2594      Frederick George HODGES  15.0\n",
      "2595        Elizabeth Joyce SLADE  15.0\n",
      "\n",
      "\n",
      "         athlete_full_name_x   age\n",
      "1806         Malcolm JENKINS  62.0\n",
      "2239  Brenda Lilian WILLIAMS  65.0\n",
      "1948   Hilda Lorna JOHNSTONE  66.0\n",
      "2466           Charles LUCAS  66.0\n",
      "1947   Hilda Lorna JOHNSTONE  70.0\n"
     ]
    }
   ],
   "source": [
    "#ajout d'une colonne donnant l'âge\n",
    "df_final['age']= df_final.apply(lambda row : ( row['game_year'] - row['athlete_year_birth']), axis=1)\n",
    "df_final = df_final.sort_values('age', ascending=True)\n",
    "\n",
    "print(df_final.head(20)[['athlete_full_name_x','age']])\n",
    "print(\"\\n\")\n",
    "print(df_final.tail()[['athlete_full_name_x','age']])\n"
   ]
  },
  {
   "cell_type": "markdown",
   "id": "6dc625a2",
   "metadata": {},
   "source": [
    "### Une fois le tri des ages par ordre croissant effectué, nous remarquons des valeurs incohérentes. Après vérification \" Sky BROWN \" est le plus jeune athlète britannique à avoir participer aux JO. Nous supprimons donc les données d'athlètes ayant un âge inférieur.\n",
    "**Il ne semble pas y avoir d'anomalies concernant les athlètes très agés. \"Hilda Lorna Johnstone\" est, d'après la bio fournie avec les données, la compétitrice la plus âgée des JO.**"
   ]
  },
  {
   "cell_type": "code",
   "execution_count": 24,
   "id": "b6ad8450",
   "metadata": {},
   "outputs": [
    {
     "name": "stdout",
     "output_type": "stream",
     "text": [
      "     athlete_full_name_x   age\n",
      "120            Sky BROWN  12.0\n",
      "1496   James Guy PARRACK  12.0\n",
      "1481   Zara Letitia LONG  14.0\n",
      "121      Bombette MARTIN  14.0\n",
      "14          Thomas DALEY  14.0\n"
     ]
    }
   ],
   "source": [
    "#Exploration et suppression de certains athlètes aux âges incohérents\n",
    "df_final.drop(df_final.index[:8], inplace=True) \n",
    "print(df_final.head()[['athlete_full_name_x','age']])"
   ]
  },
  {
   "cell_type": "markdown",
   "id": "c433b952",
   "metadata": {},
   "source": [
    "## Initialisation des graphiques"
   ]
  },
  {
   "cell_type": "code",
   "execution_count": 25,
   "id": "06b816f6",
   "metadata": {},
   "outputs": [],
   "source": [
    "#graph1 : moyennes selon les différentes éditions des JO\n",
    "df_mean_age = df_final.groupby(['game_year'])['age'].mean().reset_index(name=\"mean\")\n",
    "source1 = df_mean_age.from_records({\n",
    "    'Année': df_mean_age['game_year'],\n",
    "    'Moyenne': df_mean_age['mean']\n",
    "})\n",
    "\n",
    "graph1 = alt.Chart(source1).mark_bar().encode(\n",
    "    x='Année', y='Moyenne').properties(\n",
    "    title=\"Moyenne d'âge des participant par éditions\",width=700,height=500)\n",
    "\n",
    "\n",
    "#graph2 : tranches d'âge les plus représentés aux JO\n",
    "df_group_age = df_final.groupby(['age']).size().reset_index(name=\"total\")\n",
    "source2 = df_group_age.from_records({\n",
    "    'Age': df_group_age['age'],\n",
    "    'Total': df_group_age['total']\n",
    "})\n",
    "\n",
    "graph2 = alt.Chart(source2).mark_bar().encode(\n",
    "    x='Age', y='Total').properties(\n",
    "    title=\"Répartition des participants par âges toutes olympiades confondues\",width=700,height=500)"
   ]
  },
  {
   "cell_type": "markdown",
   "id": "612152db",
   "metadata": {},
   "source": [
    "# Résultats :"
   ]
  },
  {
   "cell_type": "code",
   "execution_count": 26,
   "id": "d4db18fc",
   "metadata": {},
   "outputs": [
    {
     "data": {
      "text/html": [
       "\n",
       "<div id=\"altair-viz-3634d52f13b44e27b8ca87b9105f4936\"></div>\n",
       "<script type=\"text/javascript\">\n",
       "  var VEGA_DEBUG = (typeof VEGA_DEBUG == \"undefined\") ? {} : VEGA_DEBUG;\n",
       "  (function(spec, embedOpt){\n",
       "    let outputDiv = document.currentScript.previousElementSibling;\n",
       "    if (outputDiv.id !== \"altair-viz-3634d52f13b44e27b8ca87b9105f4936\") {\n",
       "      outputDiv = document.getElementById(\"altair-viz-3634d52f13b44e27b8ca87b9105f4936\");\n",
       "    }\n",
       "    const paths = {\n",
       "      \"vega\": \"https://cdn.jsdelivr.net/npm//vega@5?noext\",\n",
       "      \"vega-lib\": \"https://cdn.jsdelivr.net/npm//vega-lib?noext\",\n",
       "      \"vega-lite\": \"https://cdn.jsdelivr.net/npm//vega-lite@4.17.0?noext\",\n",
       "      \"vega-embed\": \"https://cdn.jsdelivr.net/npm//vega-embed@6?noext\",\n",
       "    };\n",
       "\n",
       "    function maybeLoadScript(lib, version) {\n",
       "      var key = `${lib.replace(\"-\", \"\")}_version`;\n",
       "      return (VEGA_DEBUG[key] == version) ?\n",
       "        Promise.resolve(paths[lib]) :\n",
       "        new Promise(function(resolve, reject) {\n",
       "          var s = document.createElement('script');\n",
       "          document.getElementsByTagName(\"head\")[0].appendChild(s);\n",
       "          s.async = true;\n",
       "          s.onload = () => {\n",
       "            VEGA_DEBUG[key] = version;\n",
       "            return resolve(paths[lib]);\n",
       "          };\n",
       "          s.onerror = () => reject(`Error loading script: ${paths[lib]}`);\n",
       "          s.src = paths[lib];\n",
       "        });\n",
       "    }\n",
       "\n",
       "    function showError(err) {\n",
       "      outputDiv.innerHTML = `<div class=\"error\" style=\"color:red;\">${err}</div>`;\n",
       "      throw err;\n",
       "    }\n",
       "\n",
       "    function displayChart(vegaEmbed) {\n",
       "      vegaEmbed(outputDiv, spec, embedOpt)\n",
       "        .catch(err => showError(`Javascript Error: ${err.message}<br>This usually means there's a typo in your chart specification. See the javascript console for the full traceback.`));\n",
       "    }\n",
       "\n",
       "    if(typeof define === \"function\" && define.amd) {\n",
       "      requirejs.config({paths});\n",
       "      require([\"vega-embed\"], displayChart, err => showError(`Error loading script: ${err.message}`));\n",
       "    } else {\n",
       "      maybeLoadScript(\"vega\", \"5\")\n",
       "        .then(() => maybeLoadScript(\"vega-lite\", \"4.17.0\"))\n",
       "        .then(() => maybeLoadScript(\"vega-embed\", \"6\"))\n",
       "        .catch(showError)\n",
       "        .then(() => displayChart(vegaEmbed));\n",
       "    }\n",
       "  })({\"config\": {\"view\": {\"continuousWidth\": 400, \"continuousHeight\": 300}}, \"vconcat\": [{\"data\": {\"name\": \"data-69d91c2a813821b4f4e08de4f3a88bf8\"}, \"mark\": \"bar\", \"encoding\": {\"x\": {\"field\": \"Ann\\u00e9e\", \"type\": \"quantitative\"}, \"y\": {\"field\": \"Moyenne\", \"type\": \"quantitative\"}}, \"height\": 500, \"title\": \"Moyenne d'\\u00e2ge des participant par \\u00e9ditions\", \"width\": 700}, {\"data\": {\"name\": \"data-30899cb1d87ef7af4e0fe92504e097ff\"}, \"mark\": \"bar\", \"encoding\": {\"x\": {\"field\": \"Age\", \"type\": \"quantitative\"}, \"y\": {\"field\": \"Total\", \"type\": \"quantitative\"}}, \"height\": 500, \"title\": \"R\\u00e9partition des participants par \\u00e2ges toutes olympiades confondues\", \"width\": 700}], \"$schema\": \"https://vega.github.io/schema/vega-lite/v4.17.0.json\", \"datasets\": {\"data-69d91c2a813821b4f4e08de4f3a88bf8\": [{\"Ann\\u00e9e\": 1896, \"Moyenne\": 27.2}, {\"Ann\\u00e9e\": 1900, \"Moyenne\": 29.235294117647058}, {\"Ann\\u00e9e\": 1904, \"Moyenne\": 29.5}, {\"Ann\\u00e9e\": 1908, \"Moyenne\": 31.159420289855074}, {\"Ann\\u00e9e\": 1912, \"Moyenne\": 31.793893129770993}, {\"Ann\\u00e9e\": 1920, \"Moyenne\": 30.735849056603772}, {\"Ann\\u00e9e\": 1924, \"Moyenne\": 29.825242718446603}, {\"Ann\\u00e9e\": 1928, \"Moyenne\": 27.155555555555555}, {\"Ann\\u00e9e\": 1932, \"Moyenne\": 24.551724137931036}, {\"Ann\\u00e9e\": 1936, \"Moyenne\": 25.081967213114755}, {\"Ann\\u00e9e\": 1948, \"Moyenne\": 29.511904761904763}, {\"Ann\\u00e9e\": 1952, \"Moyenne\": 27.962264150943398}, {\"Ann\\u00e9e\": 1956, \"Moyenne\": 26.011904761904763}, {\"Ann\\u00e9e\": 1960, \"Moyenne\": 26.00952380952381}, {\"Ann\\u00e9e\": 1964, \"Moyenne\": 25.86}, {\"Ann\\u00e9e\": 1968, \"Moyenne\": 26.91176470588235}, {\"Ann\\u00e9e\": 1972, \"Moyenne\": 28.27102803738318}, {\"Ann\\u00e9e\": 1976, \"Moyenne\": 28.0188679245283}, {\"Ann\\u00e9e\": 1980, \"Moyenne\": 23.908256880733944}, {\"Ann\\u00e9e\": 1984, \"Moyenne\": 26.066666666666666}, {\"Ann\\u00e9e\": 1988, \"Moyenne\": 26.359756097560975}, {\"Ann\\u00e9e\": 1992, \"Moyenne\": 26.508379888268156}, {\"Ann\\u00e9e\": 1996, \"Moyenne\": 28.448818897637796}, {\"Ann\\u00e9e\": 2000, \"Moyenne\": 27.642857142857142}, {\"Ann\\u00e9e\": 2004, \"Moyenne\": 27.864}, {\"Ann\\u00e9e\": 2008, \"Moyenne\": 26.8476821192053}, {\"Ann\\u00e9e\": 2012, \"Moyenne\": 26.886255924170616}, {\"Ann\\u00e9e\": 2016, \"Moyenne\": 27.526315789473685}, {\"Ann\\u00e9e\": 2020, \"Moyenne\": 26.710843373493976}], \"data-30899cb1d87ef7af4e0fe92504e097ff\": [{\"Age\": 12.0, \"Total\": 2}, {\"Age\": 14.0, \"Total\": 3}, {\"Age\": 15.0, \"Total\": 7}, {\"Age\": 16.0, \"Total\": 20}, {\"Age\": 17.0, \"Total\": 50}, {\"Age\": 18.0, \"Total\": 55}, {\"Age\": 19.0, \"Total\": 106}, {\"Age\": 20.0, \"Total\": 146}, {\"Age\": 21.0, \"Total\": 180}, {\"Age\": 22.0, \"Total\": 191}, {\"Age\": 23.0, \"Total\": 254}, {\"Age\": 24.0, \"Total\": 209}, {\"Age\": 25.0, \"Total\": 223}, {\"Age\": 26.0, \"Total\": 204}, {\"Age\": 27.0, \"Total\": 183}, {\"Age\": 28.0, \"Total\": 169}, {\"Age\": 29.0, \"Total\": 185}, {\"Age\": 30.0, \"Total\": 126}, {\"Age\": 31.0, \"Total\": 134}, {\"Age\": 32.0, \"Total\": 99}, {\"Age\": 33.0, \"Total\": 85}, {\"Age\": 34.0, \"Total\": 59}, {\"Age\": 35.0, \"Total\": 62}, {\"Age\": 36.0, \"Total\": 47}, {\"Age\": 37.0, \"Total\": 48}, {\"Age\": 38.0, \"Total\": 32}, {\"Age\": 39.0, \"Total\": 30}, {\"Age\": 40.0, \"Total\": 28}, {\"Age\": 41.0, \"Total\": 23}, {\"Age\": 42.0, \"Total\": 11}, {\"Age\": 43.0, \"Total\": 19}, {\"Age\": 44.0, \"Total\": 15}, {\"Age\": 45.0, \"Total\": 18}, {\"Age\": 46.0, \"Total\": 12}, {\"Age\": 47.0, \"Total\": 14}, {\"Age\": 48.0, \"Total\": 11}, {\"Age\": 49.0, \"Total\": 9}, {\"Age\": 50.0, \"Total\": 3}, {\"Age\": 51.0, \"Total\": 5}, {\"Age\": 52.0, \"Total\": 3}, {\"Age\": 53.0, \"Total\": 7}, {\"Age\": 54.0, \"Total\": 2}, {\"Age\": 55.0, \"Total\": 2}, {\"Age\": 56.0, \"Total\": 5}, {\"Age\": 57.0, \"Total\": 3}, {\"Age\": 58.0, \"Total\": 4}, {\"Age\": 59.0, \"Total\": 1}, {\"Age\": 60.0, \"Total\": 2}, {\"Age\": 61.0, \"Total\": 3}, {\"Age\": 62.0, \"Total\": 3}, {\"Age\": 65.0, \"Total\": 1}, {\"Age\": 66.0, \"Total\": 2}, {\"Age\": 70.0, \"Total\": 1}]}}, {\"mode\": \"vega-lite\"});\n",
       "</script>"
      ],
      "text/plain": [
       "alt.VConcatChart(...)"
      ]
     },
     "execution_count": 26,
     "metadata": {},
     "output_type": "execute_result"
    }
   ],
   "source": [
    "graph1 & graph2"
   ]
  },
  {
   "cell_type": "code",
   "execution_count": null,
   "id": "9b892ab2",
   "metadata": {},
   "outputs": [],
   "source": []
  }
 ],
 "metadata": {
  "kernelspec": {
   "display_name": "Python 3 (ipykernel)",
   "language": "python",
   "name": "python3"
  },
  "language_info": {
   "codemirror_mode": {
    "name": "ipython",
    "version": 3
   },
   "file_extension": ".py",
   "mimetype": "text/x-python",
   "name": "python",
   "nbconvert_exporter": "python",
   "pygments_lexer": "ipython3",
   "version": "3.9.12"
  }
 },
 "nbformat": 4,
 "nbformat_minor": 5
}
